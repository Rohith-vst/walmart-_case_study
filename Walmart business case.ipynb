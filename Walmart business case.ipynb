{
 "cells": [
  {
   "cell_type": "code",
   "execution_count": 1,
   "id": "e41c69ae",
   "metadata": {},
   "outputs": [],
   "source": [
    "import pandas as pd\n",
    "import numpy as np\n",
    "import scipy.stats as stats\n",
    "import matplotlib.pyplot as plt\n",
    "import seaborn as sns"
   ]
  },
  {
   "cell_type": "code",
   "execution_count": 2,
   "id": "212731d1",
   "metadata": {},
   "outputs": [
    {
     "data": {
      "text/html": [
       "<div>\n",
       "<style scoped>\n",
       "    .dataframe tbody tr th:only-of-type {\n",
       "        vertical-align: middle;\n",
       "    }\n",
       "\n",
       "    .dataframe tbody tr th {\n",
       "        vertical-align: top;\n",
       "    }\n",
       "\n",
       "    .dataframe thead th {\n",
       "        text-align: right;\n",
       "    }\n",
       "</style>\n",
       "<table border=\"1\" class=\"dataframe\">\n",
       "  <thead>\n",
       "    <tr style=\"text-align: right;\">\n",
       "      <th></th>\n",
       "      <th>User_ID</th>\n",
       "      <th>Product_ID</th>\n",
       "      <th>Gender</th>\n",
       "      <th>Age</th>\n",
       "      <th>Occupation</th>\n",
       "      <th>City_Category</th>\n",
       "      <th>Stay_In_Current_City_Years</th>\n",
       "      <th>Marital_Status</th>\n",
       "      <th>Product_Category</th>\n",
       "      <th>Purchase</th>\n",
       "    </tr>\n",
       "  </thead>\n",
       "  <tbody>\n",
       "    <tr>\n",
       "      <th>0</th>\n",
       "      <td>1000001</td>\n",
       "      <td>P00069042</td>\n",
       "      <td>F</td>\n",
       "      <td>0-17</td>\n",
       "      <td>10</td>\n",
       "      <td>A</td>\n",
       "      <td>2</td>\n",
       "      <td>0</td>\n",
       "      <td>3</td>\n",
       "      <td>8370</td>\n",
       "    </tr>\n",
       "    <tr>\n",
       "      <th>1</th>\n",
       "      <td>1000001</td>\n",
       "      <td>P00248942</td>\n",
       "      <td>F</td>\n",
       "      <td>0-17</td>\n",
       "      <td>10</td>\n",
       "      <td>A</td>\n",
       "      <td>2</td>\n",
       "      <td>0</td>\n",
       "      <td>1</td>\n",
       "      <td>15200</td>\n",
       "    </tr>\n",
       "    <tr>\n",
       "      <th>2</th>\n",
       "      <td>1000001</td>\n",
       "      <td>P00087842</td>\n",
       "      <td>F</td>\n",
       "      <td>0-17</td>\n",
       "      <td>10</td>\n",
       "      <td>A</td>\n",
       "      <td>2</td>\n",
       "      <td>0</td>\n",
       "      <td>12</td>\n",
       "      <td>1422</td>\n",
       "    </tr>\n",
       "    <tr>\n",
       "      <th>3</th>\n",
       "      <td>1000001</td>\n",
       "      <td>P00085442</td>\n",
       "      <td>F</td>\n",
       "      <td>0-17</td>\n",
       "      <td>10</td>\n",
       "      <td>A</td>\n",
       "      <td>2</td>\n",
       "      <td>0</td>\n",
       "      <td>12</td>\n",
       "      <td>1057</td>\n",
       "    </tr>\n",
       "    <tr>\n",
       "      <th>4</th>\n",
       "      <td>1000002</td>\n",
       "      <td>P00285442</td>\n",
       "      <td>M</td>\n",
       "      <td>55+</td>\n",
       "      <td>16</td>\n",
       "      <td>C</td>\n",
       "      <td>4+</td>\n",
       "      <td>0</td>\n",
       "      <td>8</td>\n",
       "      <td>7969</td>\n",
       "    </tr>\n",
       "    <tr>\n",
       "      <th>...</th>\n",
       "      <td>...</td>\n",
       "      <td>...</td>\n",
       "      <td>...</td>\n",
       "      <td>...</td>\n",
       "      <td>...</td>\n",
       "      <td>...</td>\n",
       "      <td>...</td>\n",
       "      <td>...</td>\n",
       "      <td>...</td>\n",
       "      <td>...</td>\n",
       "    </tr>\n",
       "    <tr>\n",
       "      <th>550063</th>\n",
       "      <td>1006033</td>\n",
       "      <td>P00372445</td>\n",
       "      <td>M</td>\n",
       "      <td>51-55</td>\n",
       "      <td>13</td>\n",
       "      <td>B</td>\n",
       "      <td>1</td>\n",
       "      <td>1</td>\n",
       "      <td>20</td>\n",
       "      <td>368</td>\n",
       "    </tr>\n",
       "    <tr>\n",
       "      <th>550064</th>\n",
       "      <td>1006035</td>\n",
       "      <td>P00375436</td>\n",
       "      <td>F</td>\n",
       "      <td>26-35</td>\n",
       "      <td>1</td>\n",
       "      <td>C</td>\n",
       "      <td>3</td>\n",
       "      <td>0</td>\n",
       "      <td>20</td>\n",
       "      <td>371</td>\n",
       "    </tr>\n",
       "    <tr>\n",
       "      <th>550065</th>\n",
       "      <td>1006036</td>\n",
       "      <td>P00375436</td>\n",
       "      <td>F</td>\n",
       "      <td>26-35</td>\n",
       "      <td>15</td>\n",
       "      <td>B</td>\n",
       "      <td>4+</td>\n",
       "      <td>1</td>\n",
       "      <td>20</td>\n",
       "      <td>137</td>\n",
       "    </tr>\n",
       "    <tr>\n",
       "      <th>550066</th>\n",
       "      <td>1006038</td>\n",
       "      <td>P00375436</td>\n",
       "      <td>F</td>\n",
       "      <td>55+</td>\n",
       "      <td>1</td>\n",
       "      <td>C</td>\n",
       "      <td>2</td>\n",
       "      <td>0</td>\n",
       "      <td>20</td>\n",
       "      <td>365</td>\n",
       "    </tr>\n",
       "    <tr>\n",
       "      <th>550067</th>\n",
       "      <td>1006039</td>\n",
       "      <td>P00371644</td>\n",
       "      <td>F</td>\n",
       "      <td>46-50</td>\n",
       "      <td>0</td>\n",
       "      <td>B</td>\n",
       "      <td>4+</td>\n",
       "      <td>1</td>\n",
       "      <td>20</td>\n",
       "      <td>490</td>\n",
       "    </tr>\n",
       "  </tbody>\n",
       "</table>\n",
       "<p>550068 rows × 10 columns</p>\n",
       "</div>"
      ],
      "text/plain": [
       "        User_ID Product_ID Gender    Age  Occupation City_Category  \\\n",
       "0       1000001  P00069042      F   0-17          10             A   \n",
       "1       1000001  P00248942      F   0-17          10             A   \n",
       "2       1000001  P00087842      F   0-17          10             A   \n",
       "3       1000001  P00085442      F   0-17          10             A   \n",
       "4       1000002  P00285442      M    55+          16             C   \n",
       "...         ...        ...    ...    ...         ...           ...   \n",
       "550063  1006033  P00372445      M  51-55          13             B   \n",
       "550064  1006035  P00375436      F  26-35           1             C   \n",
       "550065  1006036  P00375436      F  26-35          15             B   \n",
       "550066  1006038  P00375436      F    55+           1             C   \n",
       "550067  1006039  P00371644      F  46-50           0             B   \n",
       "\n",
       "       Stay_In_Current_City_Years  Marital_Status  Product_Category  Purchase  \n",
       "0                               2               0                 3      8370  \n",
       "1                               2               0                 1     15200  \n",
       "2                               2               0                12      1422  \n",
       "3                               2               0                12      1057  \n",
       "4                              4+               0                 8      7969  \n",
       "...                           ...             ...               ...       ...  \n",
       "550063                          1               1                20       368  \n",
       "550064                          3               0                20       371  \n",
       "550065                         4+               1                20       137  \n",
       "550066                          2               0                20       365  \n",
       "550067                         4+               1                20       490  \n",
       "\n",
       "[550068 rows x 10 columns]"
      ]
     },
     "execution_count": 2,
     "metadata": {},
     "output_type": "execute_result"
    }
   ],
   "source": [
    "df = pd.read_csv(\"walmart_data.csv\")\n",
    "df"
   ]
  },
  {
   "cell_type": "code",
   "execution_count": 3,
   "id": "711ced45",
   "metadata": {},
   "outputs": [
    {
     "data": {
      "text/plain": [
       "(550068, 10)"
      ]
     },
     "execution_count": 3,
     "metadata": {},
     "output_type": "execute_result"
    }
   ],
   "source": [
    "#shape of dataset\n",
    "df.shape"
   ]
  },
  {
   "cell_type": "code",
   "execution_count": 4,
   "id": "351051e0",
   "metadata": {
    "scrolled": true
   },
   "outputs": [
    {
     "name": "stdout",
     "output_type": "stream",
     "text": [
      "<class 'pandas.core.frame.DataFrame'>\n",
      "RangeIndex: 550068 entries, 0 to 550067\n",
      "Data columns (total 10 columns):\n",
      " #   Column                      Non-Null Count   Dtype \n",
      "---  ------                      --------------   ----- \n",
      " 0   User_ID                     550068 non-null  int64 \n",
      " 1   Product_ID                  550068 non-null  object\n",
      " 2   Gender                      550068 non-null  object\n",
      " 3   Age                         550068 non-null  object\n",
      " 4   Occupation                  550068 non-null  int64 \n",
      " 5   City_Category               550068 non-null  object\n",
      " 6   Stay_In_Current_City_Years  550068 non-null  object\n",
      " 7   Marital_Status              550068 non-null  int64 \n",
      " 8   Product_Category            550068 non-null  int64 \n",
      " 9   Purchase                    550068 non-null  int64 \n",
      "dtypes: int64(5), object(5)\n",
      "memory usage: 42.0+ MB\n"
     ]
    }
   ],
   "source": [
    "#checking datatypes \n",
    "df.info()"
   ]
  },
  {
   "cell_type": "code",
   "execution_count": 5,
   "id": "38977cc1",
   "metadata": {},
   "outputs": [
    {
     "data": {
      "text/plain": [
       "User_ID                        5891\n",
       "Product_ID                     3631\n",
       "Gender                            2\n",
       "Age                               7\n",
       "Occupation                       21\n",
       "City_Category                     3\n",
       "Stay_In_Current_City_Years        5\n",
       "Marital_Status                    2\n",
       "Product_Category                 20\n",
       "Purchase                      18105\n",
       "dtype: int64"
      ]
     },
     "execution_count": 5,
     "metadata": {},
     "output_type": "execute_result"
    }
   ],
   "source": [
    "#num of unique values in each column\n",
    "df.nunique()"
   ]
  },
  {
   "cell_type": "code",
   "execution_count": 6,
   "id": "7845225e",
   "metadata": {},
   "outputs": [
    {
     "data": {
      "text/plain": [
       "User_ID                       0\n",
       "Product_ID                    0\n",
       "Gender                        0\n",
       "Age                           0\n",
       "Occupation                    0\n",
       "City_Category                 0\n",
       "Stay_In_Current_City_Years    0\n",
       "Marital_Status                0\n",
       "Product_Category              0\n",
       "Purchase                      0\n",
       "dtype: int64"
      ]
     },
     "execution_count": 6,
     "metadata": {},
     "output_type": "execute_result"
    }
   ],
   "source": [
    "#checking null values\n",
    "df.isnull().sum()"
   ]
  },
  {
   "cell_type": "markdown",
   "id": "9eedbf95",
   "metadata": {},
   "source": [
    "there aren't any missing values"
   ]
  },
  {
   "cell_type": "code",
   "execution_count": 7,
   "id": "8c406ad5",
   "metadata": {
    "scrolled": false
   },
   "outputs": [
    {
     "data": {
      "text/html": [
       "<div>\n",
       "<style scoped>\n",
       "    .dataframe tbody tr th:only-of-type {\n",
       "        vertical-align: middle;\n",
       "    }\n",
       "\n",
       "    .dataframe tbody tr th {\n",
       "        vertical-align: top;\n",
       "    }\n",
       "\n",
       "    .dataframe thead th {\n",
       "        text-align: right;\n",
       "    }\n",
       "</style>\n",
       "<table border=\"1\" class=\"dataframe\">\n",
       "  <thead>\n",
       "    <tr style=\"text-align: right;\">\n",
       "      <th></th>\n",
       "      <th>User_ID</th>\n",
       "      <th>Occupation</th>\n",
       "      <th>Marital_Status</th>\n",
       "      <th>Product_Category</th>\n",
       "      <th>Purchase</th>\n",
       "    </tr>\n",
       "  </thead>\n",
       "  <tbody>\n",
       "    <tr>\n",
       "      <th>count</th>\n",
       "      <td>5.500680e+05</td>\n",
       "      <td>550068.000000</td>\n",
       "      <td>550068.000000</td>\n",
       "      <td>550068.000000</td>\n",
       "      <td>550068.000000</td>\n",
       "    </tr>\n",
       "    <tr>\n",
       "      <th>mean</th>\n",
       "      <td>1.003029e+06</td>\n",
       "      <td>8.076707</td>\n",
       "      <td>0.409653</td>\n",
       "      <td>5.404270</td>\n",
       "      <td>9263.968713</td>\n",
       "    </tr>\n",
       "    <tr>\n",
       "      <th>std</th>\n",
       "      <td>1.727592e+03</td>\n",
       "      <td>6.522660</td>\n",
       "      <td>0.491770</td>\n",
       "      <td>3.936211</td>\n",
       "      <td>5023.065394</td>\n",
       "    </tr>\n",
       "    <tr>\n",
       "      <th>min</th>\n",
       "      <td>1.000001e+06</td>\n",
       "      <td>0.000000</td>\n",
       "      <td>0.000000</td>\n",
       "      <td>1.000000</td>\n",
       "      <td>12.000000</td>\n",
       "    </tr>\n",
       "    <tr>\n",
       "      <th>25%</th>\n",
       "      <td>1.001516e+06</td>\n",
       "      <td>2.000000</td>\n",
       "      <td>0.000000</td>\n",
       "      <td>1.000000</td>\n",
       "      <td>5823.000000</td>\n",
       "    </tr>\n",
       "    <tr>\n",
       "      <th>50%</th>\n",
       "      <td>1.003077e+06</td>\n",
       "      <td>7.000000</td>\n",
       "      <td>0.000000</td>\n",
       "      <td>5.000000</td>\n",
       "      <td>8047.000000</td>\n",
       "    </tr>\n",
       "    <tr>\n",
       "      <th>75%</th>\n",
       "      <td>1.004478e+06</td>\n",
       "      <td>14.000000</td>\n",
       "      <td>1.000000</td>\n",
       "      <td>8.000000</td>\n",
       "      <td>12054.000000</td>\n",
       "    </tr>\n",
       "    <tr>\n",
       "      <th>max</th>\n",
       "      <td>1.006040e+06</td>\n",
       "      <td>20.000000</td>\n",
       "      <td>1.000000</td>\n",
       "      <td>20.000000</td>\n",
       "      <td>23961.000000</td>\n",
       "    </tr>\n",
       "  </tbody>\n",
       "</table>\n",
       "</div>"
      ],
      "text/plain": [
       "            User_ID     Occupation  Marital_Status  Product_Category  \\\n",
       "count  5.500680e+05  550068.000000   550068.000000     550068.000000   \n",
       "mean   1.003029e+06       8.076707        0.409653          5.404270   \n",
       "std    1.727592e+03       6.522660        0.491770          3.936211   \n",
       "min    1.000001e+06       0.000000        0.000000          1.000000   \n",
       "25%    1.001516e+06       2.000000        0.000000          1.000000   \n",
       "50%    1.003077e+06       7.000000        0.000000          5.000000   \n",
       "75%    1.004478e+06      14.000000        1.000000          8.000000   \n",
       "max    1.006040e+06      20.000000        1.000000         20.000000   \n",
       "\n",
       "            Purchase  \n",
       "count  550068.000000  \n",
       "mean     9263.968713  \n",
       "std      5023.065394  \n",
       "min        12.000000  \n",
       "25%      5823.000000  \n",
       "50%      8047.000000  \n",
       "75%     12054.000000  \n",
       "max     23961.000000  "
      ]
     },
     "execution_count": 7,
     "metadata": {},
     "output_type": "execute_result"
    }
   ],
   "source": [
    "df.describe()"
   ]
  },
  {
   "cell_type": "code",
   "execution_count": 50,
   "id": "61657def",
   "metadata": {
    "scrolled": true
   },
   "outputs": [
    {
     "data": {
      "text/plain": [
       "B    231173\n",
       "C    171175\n",
       "A    147720\n",
       "Name: City_Category, dtype: int64"
      ]
     },
     "execution_count": 50,
     "metadata": {},
     "output_type": "execute_result"
    }
   ],
   "source": [
    "df[\"City_Category\"].value_counts()"
   ]
  },
  {
   "cell_type": "code",
   "execution_count": 54,
   "id": "bab7b3cd",
   "metadata": {
    "scrolled": true
   },
   "outputs": [
    {
     "data": {
      "text/plain": [
       "9        410\n",
       "17       578\n",
       "14      1523\n",
       "19      1603\n",
       "20      2550\n",
       "18      3125\n",
       "7       3721\n",
       "12      3947\n",
       "10      5125\n",
       "13      5549\n",
       "15      6290\n",
       "16      9828\n",
       "4      11753\n",
       "3      20213\n",
       "6      20466\n",
       "2      23864\n",
       "11     24287\n",
       "8     113925\n",
       "1     140378\n",
       "5     150933\n",
       "Name: Product_Category, dtype: int64"
      ]
     },
     "execution_count": 54,
     "metadata": {},
     "output_type": "execute_result"
    }
   ],
   "source": [
    "df[\"Product_Category\"].value_counts(ascending=True)"
   ]
  },
  {
   "cell_type": "code",
   "execution_count": 55,
   "id": "589aa345",
   "metadata": {},
   "outputs": [
    {
     "data": {
      "text/plain": [
       "8      1546\n",
       "9      6291\n",
       "18     6622\n",
       "13     7728\n",
       "19     8461\n",
       "11    11586\n",
       "15    12165\n",
       "5     12177\n",
       "10    12930\n",
       "3     17650\n",
       "6     20355\n",
       "16    25371\n",
       "2     26588\n",
       "14    27309\n",
       "12    31179\n",
       "20    33562\n",
       "17    40043\n",
       "1     47426\n",
       "7     59133\n",
       "0     69638\n",
       "4     72308\n",
       "Name: Occupation, dtype: int64"
      ]
     },
     "execution_count": 55,
     "metadata": {},
     "output_type": "execute_result"
    }
   ],
   "source": [
    "df['Occupation'].value_counts(ascending=True)"
   ]
  },
  {
   "cell_type": "code",
   "execution_count": 8,
   "id": "1f650337",
   "metadata": {
    "scrolled": true
   },
   "outputs": [
    {
     "data": {
      "text/plain": [
       "M    414259\n",
       "F    135809\n",
       "Name: Gender, dtype: int64"
      ]
     },
     "execution_count": 8,
     "metadata": {},
     "output_type": "execute_result"
    }
   ],
   "source": [
    "df['Gender'].value_counts()"
   ]
  },
  {
   "cell_type": "code",
   "execution_count": 9,
   "id": "14767f54",
   "metadata": {
    "scrolled": true
   },
   "outputs": [
    {
     "data": {
      "text/plain": [
       "Gender\n",
       "F    1666\n",
       "M    4225\n",
       "Name: User_ID, dtype: int64"
      ]
     },
     "execution_count": 9,
     "metadata": {},
     "output_type": "execute_result"
    }
   ],
   "source": [
    "df.groupby(\"Gender\")[\"User_ID\"].nunique()"
   ]
  },
  {
   "cell_type": "code",
   "execution_count": 10,
   "id": "8ea3ced4",
   "metadata": {
    "scrolled": false
   },
   "outputs": [
    {
     "data": {
      "image/png": "[encoded data removed]",
      "text/plain": [
       "<Figure size 720x504 with 1 Axes>"
      ]
     },
     "metadata": {
      "needs_background": "light"
     },
     "output_type": "display_data"
    }
   ],
   "source": [
    "#checking outliers in the purchase of men and women\n",
    "plt.figure(figsize=(10,7))\n",
    "sns.boxplot(x=\"Gender\",y=\"Purchase\",data=df)\n",
    "plt.show()"
   ]
  },
  {
   "cell_type": "code",
   "execution_count": 11,
   "id": "6737fbb2",
   "metadata": {
    "scrolled": true
   },
   "outputs": [
    {
     "data": {
      "text/plain": [
       "<seaborn.axisgrid.FacetGrid at 0x208015270a0>"
      ]
     },
     "execution_count": 11,
     "metadata": {},
     "output_type": "execute_result"
    },
    {
     "data": {
      "image/png": "[encoded data removed]",
      "text/plain": [
       "<Figure size 404.875x360 with 1 Axes>"
      ]
     },
     "metadata": {
      "needs_background": "light"
     },
     "output_type": "display_data"
    }
   ],
   "source": [
    "#before CLT\n",
    "sns.displot(x='Purchase', bins=25, kde=True,hue='Gender', data=df )"
   ]
  },
  {
   "cell_type": "markdown",
   "id": "bd01764b",
   "metadata": {},
   "source": [
    "## Calculating mean of samples using CLT"
   ]
  },
  {
   "cell_type": "markdown",
   "id": "5a40de8f",
   "metadata": {},
   "source": [
    "### 1.For male and female"
   ]
  },
  {
   "cell_type": "code",
   "execution_count": 12,
   "id": "0705c8d9",
   "metadata": {},
   "outputs": [],
   "source": [
    "new_df=df.copy()"
   ]
  },
  {
   "cell_type": "code",
   "execution_count": 13,
   "id": "e2516f8a",
   "metadata": {},
   "outputs": [],
   "source": [
    "sample=300\n",
    "iterations=1000"
   ]
  },
  {
   "cell_type": "code",
   "execution_count": 14,
   "id": "0d57e95b",
   "metadata": {
    "scrolled": true
   },
   "outputs": [
    {
     "data": {
      "text/html": [
       "<div>\n",
       "<style scoped>\n",
       "    .dataframe tbody tr th:only-of-type {\n",
       "        vertical-align: middle;\n",
       "    }\n",
       "\n",
       "    .dataframe tbody tr th {\n",
       "        vertical-align: top;\n",
       "    }\n",
       "\n",
       "    .dataframe thead th {\n",
       "        text-align: right;\n",
       "    }\n",
       "</style>\n",
       "<table border=\"1\" class=\"dataframe\">\n",
       "  <thead>\n",
       "    <tr style=\"text-align: right;\">\n",
       "      <th></th>\n",
       "      <th>count</th>\n",
       "      <th>mean</th>\n",
       "      <th>std</th>\n",
       "      <th>min</th>\n",
       "      <th>25%</th>\n",
       "      <th>50%</th>\n",
       "      <th>75%</th>\n",
       "      <th>max</th>\n",
       "    </tr>\n",
       "    <tr>\n",
       "      <th>Gender</th>\n",
       "      <th></th>\n",
       "      <th></th>\n",
       "      <th></th>\n",
       "      <th></th>\n",
       "      <th></th>\n",
       "      <th></th>\n",
       "      <th></th>\n",
       "      <th></th>\n",
       "    </tr>\n",
       "  </thead>\n",
       "  <tbody>\n",
       "    <tr>\n",
       "      <th>F</th>\n",
       "      <td>63.0</td>\n",
       "      <td>9465.746032</td>\n",
       "      <td>4718.064987</td>\n",
       "      <td>489.0</td>\n",
       "      <td>5885.5</td>\n",
       "      <td>8122.0</td>\n",
       "      <td>11945.5</td>\n",
       "      <td>20357.0</td>\n",
       "    </tr>\n",
       "    <tr>\n",
       "      <th>M</th>\n",
       "      <td>237.0</td>\n",
       "      <td>9651.742616</td>\n",
       "      <td>5166.168022</td>\n",
       "      <td>61.0</td>\n",
       "      <td>6061.0</td>\n",
       "      <td>8131.0</td>\n",
       "      <td>12831.0</td>\n",
       "      <td>23953.0</td>\n",
       "    </tr>\n",
       "  </tbody>\n",
       "</table>\n",
       "</div>"
      ],
      "text/plain": [
       "        count         mean          std    min     25%     50%      75%  \\\n",
       "Gender                                                                    \n",
       "F        63.0  9465.746032  4718.064987  489.0  5885.5  8122.0  11945.5   \n",
       "M       237.0  9651.742616  5166.168022   61.0  6061.0  8131.0  12831.0   \n",
       "\n",
       "            max  \n",
       "Gender           \n",
       "F       20357.0  \n",
       "M       23953.0  "
      ]
     },
     "execution_count": 14,
     "metadata": {},
     "output_type": "execute_result"
    }
   ],
   "source": [
    "df.sample(300).groupby('Gender')['Purchase'].describe() "
   ]
  },
  {
   "cell_type": "code",
   "execution_count": 15,
   "id": "27124c0c",
   "metadata": {},
   "outputs": [
    {
     "data": {
      "text/html": [
       "<div>\n",
       "<style scoped>\n",
       "    .dataframe tbody tr th:only-of-type {\n",
       "        vertical-align: middle;\n",
       "    }\n",
       "\n",
       "    .dataframe tbody tr th {\n",
       "        vertical-align: top;\n",
       "    }\n",
       "\n",
       "    .dataframe thead th {\n",
       "        text-align: right;\n",
       "    }\n",
       "</style>\n",
       "<table border=\"1\" class=\"dataframe\">\n",
       "  <thead>\n",
       "    <tr style=\"text-align: right;\">\n",
       "      <th></th>\n",
       "      <th>count</th>\n",
       "      <th>mean</th>\n",
       "      <th>std</th>\n",
       "      <th>min</th>\n",
       "      <th>25%</th>\n",
       "      <th>50%</th>\n",
       "      <th>75%</th>\n",
       "      <th>max</th>\n",
       "    </tr>\n",
       "    <tr>\n",
       "      <th>Gender</th>\n",
       "      <th></th>\n",
       "      <th></th>\n",
       "      <th></th>\n",
       "      <th></th>\n",
       "      <th></th>\n",
       "      <th></th>\n",
       "      <th></th>\n",
       "      <th></th>\n",
       "    </tr>\n",
       "  </thead>\n",
       "  <tbody>\n",
       "    <tr>\n",
       "      <th>F</th>\n",
       "      <td>75.0</td>\n",
       "      <td>9141.026667</td>\n",
       "      <td>4591.668362</td>\n",
       "      <td>1716.0</td>\n",
       "      <td>6020.0</td>\n",
       "      <td>8106.0</td>\n",
       "      <td>11885.0</td>\n",
       "      <td>23197.0</td>\n",
       "    </tr>\n",
       "    <tr>\n",
       "      <th>M</th>\n",
       "      <td>225.0</td>\n",
       "      <td>9473.582222</td>\n",
       "      <td>4955.394869</td>\n",
       "      <td>12.0</td>\n",
       "      <td>5980.0</td>\n",
       "      <td>8259.0</td>\n",
       "      <td>12004.0</td>\n",
       "      <td>23916.0</td>\n",
       "    </tr>\n",
       "  </tbody>\n",
       "</table>\n",
       "</div>"
      ],
      "text/plain": [
       "        count         mean          std     min     25%     50%      75%  \\\n",
       "Gender                                                                     \n",
       "F        75.0  9141.026667  4591.668362  1716.0  6020.0  8106.0  11885.0   \n",
       "M       225.0  9473.582222  4955.394869    12.0  5980.0  8259.0  12004.0   \n",
       "\n",
       "            max  \n",
       "Gender           \n",
       "F       23197.0  \n",
       "M       23916.0  "
      ]
     },
     "execution_count": 15,
     "metadata": {},
     "output_type": "execute_result"
    }
   ],
   "source": [
    "df.sample(300).groupby('Gender')['Purchase'].describe() "
   ]
  },
  {
   "cell_type": "code",
   "execution_count": 16,
   "id": "4d3abf8f",
   "metadata": {},
   "outputs": [],
   "source": [
    "#Function to find the means of samples\n",
    "def clt(d,s):\n",
    "    many_samples = []\n",
    "    for i in range(iterations):\n",
    "        many_samples.append(d.sample(s).mean())\n",
    "    return many_samples"
   ]
  },
  {
   "cell_type": "code",
   "execution_count": 17,
   "id": "3f86e1fd",
   "metadata": {
    "scrolled": true
   },
   "outputs": [],
   "source": [
    "male_sample_means=clt(new_df[new_df[\"Gender\"]=='M'][\"Purchase\"],sample)"
   ]
  },
  {
   "cell_type": "code",
   "execution_count": 18,
   "id": "e3b3d168",
   "metadata": {
    "scrolled": true
   },
   "outputs": [
    {
     "data": {
      "image/png": "[encoded data removed]",
      "text/plain": [
       "<Figure size 360x360 with 1 Axes>"
      ]
     },
     "metadata": {
      "needs_background": "light"
     },
     "output_type": "display_data"
    }
   ],
   "source": [
    "sns.displot(male_sample_means, kde=True )\n",
    "plt.title(\"Distribution of  means of male purchase from samples \")\n",
    "plt.show()\n"
   ]
  },
  {
   "cell_type": "code",
   "execution_count": 19,
   "id": "ec3a8e2d",
   "metadata": {},
   "outputs": [],
   "source": [
    "female_sample_means=clt(new_df[new_df[\"Gender\"]=='F'][\"Purchase\"],sample)"
   ]
  },
  {
   "cell_type": "code",
   "execution_count": 20,
   "id": "aa5caf97",
   "metadata": {
    "scrolled": true
   },
   "outputs": [
    {
     "data": {
      "image/png": "[encoded data removed]",
      "text/plain": [
       "<Figure size 360x360 with 1 Axes>"
      ]
     },
     "metadata": {
      "needs_background": "light"
     },
     "output_type": "display_data"
    }
   ],
   "source": [
    "sns.displot(female_sample_means, kde=True )\n",
    "plt.title(\"Distribution of  means of female purchase from samples \")\n",
    "plt.show()"
   ]
  },
  {
   "cell_type": "code",
   "execution_count": 21,
   "id": "c4d64e78",
   "metadata": {},
   "outputs": [],
   "source": [
    "#confidence interval based on z score for 95% confidence interval\n",
    "import numpy as np\n",
    "male_upper_limit= np.mean(male_sample_means) + (1.96 * np.std(male_sample_means))\n",
    "male_lower_limit= np.mean(male_sample_means) - (1.96 * np.std(male_sample_means))\n",
    "\n",
    "female_upper_limit= np.mean(female_sample_means) + (1.96 * np.std(female_sample_means))\n",
    "female_lower_limit= np.mean(female_sample_means) - (1.96 * np.std(female_sample_means))"
   ]
  },
  {
   "cell_type": "code",
   "execution_count": 22,
   "id": "5ce9403d",
   "metadata": {},
   "outputs": [
    {
     "data": {
      "text/plain": [
       "(8879.489336865905, 10011.636549800764)"
      ]
     },
     "execution_count": 22,
     "metadata": {},
     "output_type": "execute_result"
    }
   ],
   "source": [
    "#male purchase confidence interval\n",
    "( male_lower_limit, male_upper_limit)"
   ]
  },
  {
   "cell_type": "code",
   "execution_count": 23,
   "id": "65ef4f57",
   "metadata": {},
   "outputs": [
    {
     "data": {
      "text/plain": [
       "(8183.538304511438, 9296.938622155229)"
      ]
     },
     "execution_count": 23,
     "metadata": {},
     "output_type": "execute_result"
    }
   ],
   "source": [
    "#Female purchase confidence interval\n",
    "(female_lower_limit, female_upper_limit)"
   ]
  },
  {
   "cell_type": "code",
   "execution_count": 24,
   "id": "9e56eb93",
   "metadata": {},
   "outputs": [
    {
     "data": {
      "text/html": [
       "<div>\n",
       "<style scoped>\n",
       "    .dataframe tbody tr th:only-of-type {\n",
       "        vertical-align: middle;\n",
       "    }\n",
       "\n",
       "    .dataframe tbody tr th {\n",
       "        vertical-align: top;\n",
       "    }\n",
       "\n",
       "    .dataframe thead th {\n",
       "        text-align: right;\n",
       "    }\n",
       "</style>\n",
       "<table border=\"1\" class=\"dataframe\">\n",
       "  <thead>\n",
       "    <tr style=\"text-align: right;\">\n",
       "      <th></th>\n",
       "      <th>count</th>\n",
       "      <th>mean</th>\n",
       "      <th>std</th>\n",
       "      <th>min</th>\n",
       "      <th>25%</th>\n",
       "      <th>50%</th>\n",
       "      <th>75%</th>\n",
       "      <th>max</th>\n",
       "    </tr>\n",
       "    <tr>\n",
       "      <th>Gender</th>\n",
       "      <th></th>\n",
       "      <th></th>\n",
       "      <th></th>\n",
       "      <th></th>\n",
       "      <th></th>\n",
       "      <th></th>\n",
       "      <th></th>\n",
       "      <th></th>\n",
       "    </tr>\n",
       "  </thead>\n",
       "  <tbody>\n",
       "    <tr>\n",
       "      <th>F</th>\n",
       "      <td>135809.0</td>\n",
       "      <td>8734.565765</td>\n",
       "      <td>4767.233289</td>\n",
       "      <td>12.0</td>\n",
       "      <td>5433.0</td>\n",
       "      <td>7914.0</td>\n",
       "      <td>11400.0</td>\n",
       "      <td>23959.0</td>\n",
       "    </tr>\n",
       "    <tr>\n",
       "      <th>M</th>\n",
       "      <td>414259.0</td>\n",
       "      <td>9437.526040</td>\n",
       "      <td>5092.186210</td>\n",
       "      <td>12.0</td>\n",
       "      <td>5863.0</td>\n",
       "      <td>8098.0</td>\n",
       "      <td>12454.0</td>\n",
       "      <td>23961.0</td>\n",
       "    </tr>\n",
       "  </tbody>\n",
       "</table>\n",
       "</div>"
      ],
      "text/plain": [
       "           count         mean          std   min     25%     50%      75%  \\\n",
       "Gender                                                                      \n",
       "F       135809.0  8734.565765  4767.233289  12.0  5433.0  7914.0  11400.0   \n",
       "M       414259.0  9437.526040  5092.186210  12.0  5863.0  8098.0  12454.0   \n",
       "\n",
       "            max  \n",
       "Gender           \n",
       "F       23959.0  \n",
       "M       23961.0  "
      ]
     },
     "execution_count": 24,
     "metadata": {},
     "output_type": "execute_result"
    }
   ],
   "source": [
    "# for sample it was\n",
    "new_df.groupby('Gender')['Purchase'].describe()"
   ]
  },
  {
   "cell_type": "code",
   "execution_count": 25,
   "id": "762380c4",
   "metadata": {},
   "outputs": [],
   "source": [
    "#Since the  intervals are overlapping we can not say males are spending more than females. "
   ]
  },
  {
   "cell_type": "markdown",
   "id": "789179a4",
   "metadata": {},
   "source": [
    "### 2.For marital status"
   ]
  },
  {
   "cell_type": "code",
   "execution_count": 26,
   "id": "8920dba4",
   "metadata": {},
   "outputs": [
    {
     "data": {
      "text/plain": [
       "Marital_Status\n",
       "0    3417\n",
       "1    2474\n",
       "Name: User_ID, dtype: int64"
      ]
     },
     "execution_count": 26,
     "metadata": {},
     "output_type": "execute_result"
    }
   ],
   "source": [
    "#number of unique Married and unmarried customers in the sample\n",
    "df.groupby(\"Marital_Status\")[\"User_ID\"].nunique()"
   ]
  },
  {
   "cell_type": "code",
   "execution_count": 27,
   "id": "c4d4d196",
   "metadata": {},
   "outputs": [
    {
     "data": {
      "text/html": [
       "<div>\n",
       "<style scoped>\n",
       "    .dataframe tbody tr th:only-of-type {\n",
       "        vertical-align: middle;\n",
       "    }\n",
       "\n",
       "    .dataframe tbody tr th {\n",
       "        vertical-align: top;\n",
       "    }\n",
       "\n",
       "    .dataframe thead th {\n",
       "        text-align: right;\n",
       "    }\n",
       "</style>\n",
       "<table border=\"1\" class=\"dataframe\">\n",
       "  <thead>\n",
       "    <tr style=\"text-align: right;\">\n",
       "      <th></th>\n",
       "      <th>count</th>\n",
       "      <th>mean</th>\n",
       "      <th>std</th>\n",
       "      <th>min</th>\n",
       "      <th>25%</th>\n",
       "      <th>50%</th>\n",
       "      <th>75%</th>\n",
       "      <th>max</th>\n",
       "    </tr>\n",
       "    <tr>\n",
       "      <th>Marital_Status</th>\n",
       "      <th></th>\n",
       "      <th></th>\n",
       "      <th></th>\n",
       "      <th></th>\n",
       "      <th></th>\n",
       "      <th></th>\n",
       "      <th></th>\n",
       "      <th></th>\n",
       "    </tr>\n",
       "  </thead>\n",
       "  <tbody>\n",
       "    <tr>\n",
       "      <th>0</th>\n",
       "      <td>324731.0</td>\n",
       "      <td>1.002999e+06</td>\n",
       "      <td>1700.465995</td>\n",
       "      <td>1000001.0</td>\n",
       "      <td>1001524.0</td>\n",
       "      <td>1003065.0</td>\n",
       "      <td>1004386.0</td>\n",
       "      <td>1006040.0</td>\n",
       "    </tr>\n",
       "    <tr>\n",
       "      <th>1</th>\n",
       "      <td>225337.0</td>\n",
       "      <td>1.003071e+06</td>\n",
       "      <td>1765.090842</td>\n",
       "      <td>1000004.0</td>\n",
       "      <td>1001506.0</td>\n",
       "      <td>1003093.0</td>\n",
       "      <td>1004647.0</td>\n",
       "      <td>1006039.0</td>\n",
       "    </tr>\n",
       "  </tbody>\n",
       "</table>\n",
       "</div>"
      ],
      "text/plain": [
       "                   count          mean          std        min        25%  \\\n",
       "Marital_Status                                                              \n",
       "0               324731.0  1.002999e+06  1700.465995  1000001.0  1001524.0   \n",
       "1               225337.0  1.003071e+06  1765.090842  1000004.0  1001506.0   \n",
       "\n",
       "                      50%        75%        max  \n",
       "Marital_Status                                   \n",
       "0               1003065.0  1004386.0  1006040.0  \n",
       "1               1003093.0  1004647.0  1006039.0  "
      ]
     },
     "execution_count": 27,
     "metadata": {},
     "output_type": "execute_result"
    }
   ],
   "source": [
    "#before CLT\n",
    "df.groupby(\"Marital_Status\")[\"User_ID\"].describe()"
   ]
  },
  {
   "cell_type": "code",
   "execution_count": 28,
   "id": "b87951d2",
   "metadata": {},
   "outputs": [
    {
     "data": {
      "image/png": "[encoded data removed]",
      "text/plain": [
       "<Figure size 720x504 with 1 Axes>"
      ]
     },
     "metadata": {
      "needs_background": "light"
     },
     "output_type": "display_data"
    }
   ],
   "source": [
    "#checking outliers in the purchase of Married  and Unmarried\n",
    "plt.figure(figsize=(10,7))\n",
    "sns.boxplot(x=\"Marital_Status\",y=\"Purchase\",data=df)\n",
    "plt.show()"
   ]
  },
  {
   "cell_type": "code",
   "execution_count": 29,
   "id": "699d1873",
   "metadata": {},
   "outputs": [],
   "source": [
    "sample=300\n",
    "iterations=1000"
   ]
  },
  {
   "cell_type": "code",
   "execution_count": 30,
   "id": "bffcb8e5",
   "metadata": {},
   "outputs": [],
   "source": [
    "#unmarried CLT\n",
    "unm=new_df[new_df[\"Marital_Status\"]==0]"
   ]
  },
  {
   "cell_type": "code",
   "execution_count": 31,
   "id": "61284dcd",
   "metadata": {},
   "outputs": [],
   "source": [
    "#using clt function which was created previously\n",
    "unmarried_sample_means=clt(unm[\"Purchase\"],sample)"
   ]
  },
  {
   "cell_type": "code",
   "execution_count": 32,
   "id": "180917dc",
   "metadata": {
    "scrolled": true
   },
   "outputs": [
    {
     "data": {
      "image/png": "[encoded data removed]",
      "text/plain": [
       "<Figure size 432x288 with 1 Axes>"
      ]
     },
     "metadata": {
      "needs_background": "light"
     },
     "output_type": "display_data"
    }
   ],
   "source": [
    "sns.histplot(unmarried_sample_means,kde=True)\n",
    "plt.title(\"Distribution of Unmarried Purchase means of samples\")\n",
    "plt.show()"
   ]
  },
  {
   "cell_type": "code",
   "execution_count": 33,
   "id": "9178634e",
   "metadata": {},
   "outputs": [],
   "source": [
    "#married CLT\n",
    "mm=new_df[new_df[\"Marital_Status\"]==0]\n",
    "married_sample_means=clt(mm[\"Purchase\"],sample)"
   ]
  },
  {
   "cell_type": "code",
   "execution_count": 34,
   "id": "11171e73",
   "metadata": {
    "scrolled": true
   },
   "outputs": [
    {
     "data": {
      "image/png": "[encoded data removed]",
      "text/plain": [
       "<Figure size 432x288 with 1 Axes>"
      ]
     },
     "metadata": {
      "needs_background": "light"
     },
     "output_type": "display_data"
    }
   ],
   "source": [
    "sns.histplot(married_sample_means,kde=True)\n",
    "plt.title(\"Distribution of married Purchase means of samples\")\n",
    "plt.show()"
   ]
  },
  {
   "cell_type": "code",
   "execution_count": 35,
   "id": "bbc2a6c1",
   "metadata": {},
   "outputs": [],
   "source": [
    "#confidence interval based on z score for 95% confidence interval\n",
    "import numpy as np\n",
    "unmarried_upper_limit= np.mean(unmarried_sample_means) + (1.96 * np.std(unmarried_sample_means))\n",
    "unmarried_lower_limit= np.mean(unmarried_sample_means) - (1.96 * np.std(unmarried_sample_means))\n",
    "\n",
    "married_upper_limit= np.mean(married_sample_means) + (1.96 * np.std(married_sample_means))\n",
    "married_lower_limit= np.mean(married_sample_means) - (1.96 * np.std(married_sample_means))\n",
    "#we can also solve this using IQR method"
   ]
  },
  {
   "cell_type": "code",
   "execution_count": 36,
   "id": "1387ecaa",
   "metadata": {},
   "outputs": [
    {
     "data": {
      "text/plain": [
       "(8707.568657222886, 9857.47846277711)"
      ]
     },
     "execution_count": 36,
     "metadata": {},
     "output_type": "execute_result"
    }
   ],
   "source": [
    "(unmarried_lower_limit,unmarried_upper_limit)"
   ]
  },
  {
   "cell_type": "code",
   "execution_count": 37,
   "id": "a218638a",
   "metadata": {},
   "outputs": [
    {
     "data": {
      "text/plain": [
       "(8711.168615107412, 9846.172984892588)"
      ]
     },
     "execution_count": 37,
     "metadata": {},
     "output_type": "execute_result"
    }
   ],
   "source": [
    "(married_lower_limit,married_upper_limit)"
   ]
  },
  {
   "cell_type": "code",
   "execution_count": 38,
   "id": "30147c49",
   "metadata": {},
   "outputs": [],
   "source": [
    "#since the intervals are overlapping we cannot say that unnmarried has more Purchases than married."
   ]
  },
  {
   "cell_type": "markdown",
   "id": "576b43fc",
   "metadata": {},
   "source": [
    "### 3.For Ages"
   ]
  },
  {
   "cell_type": "code",
   "execution_count": 39,
   "id": "4af382f5",
   "metadata": {},
   "outputs": [
    {
     "data": {
      "text/plain": [
       "0-17      15102\n",
       "55+       21504\n",
       "51-55     38501\n",
       "46-50     45701\n",
       "18-25     99660\n",
       "36-45    110013\n",
       "26-35    219587\n",
       "Name: Age, dtype: int64"
      ]
     },
     "execution_count": 39,
     "metadata": {},
     "output_type": "execute_result"
    }
   ],
   "source": [
    "df['Age'].value_counts(ascending =True)"
   ]
  },
  {
   "cell_type": "code",
   "execution_count": 40,
   "id": "15328fce",
   "metadata": {},
   "outputs": [
    {
     "data": {
      "text/plain": [
       "Age\n",
       "0-17      218\n",
       "18-25    1069\n",
       "26-35    2053\n",
       "36-45    1167\n",
       "46-50     531\n",
       "51-55     481\n",
       "55+       372\n",
       "Name: User_ID, dtype: int64"
      ]
     },
     "execution_count": 40,
     "metadata": {},
     "output_type": "execute_result"
    }
   ],
   "source": [
    "df.groupby(\"Age\")[\"User_ID\"].nunique()"
   ]
  },
  {
   "cell_type": "code",
   "execution_count": 41,
   "id": "e9e5e0dc",
   "metadata": {},
   "outputs": [
    {
     "data": {
      "image/png": "[encoded data removed]",
      "text/plain": [
       "<Figure size 720x504 with 1 Axes>"
      ]
     },
     "metadata": {
      "needs_background": "light"
     },
     "output_type": "display_data"
    }
   ],
   "source": [
    "#Checking outliers in Ages from the sample.\n",
    "plt.figure(figsize=(10,7))\n",
    "sns.boxplot(x=\"Age\",y=\"Purchase\",data=df)\n",
    "plt.show()"
   ]
  },
  {
   "cell_type": "code",
   "execution_count": 42,
   "id": "12092e32",
   "metadata": {},
   "outputs": [
    {
     "data": {
      "text/plain": [
       "['0-17', '18-25', '26-35', '36-45', '46-50', '51-55', '55+']"
      ]
     },
     "execution_count": 42,
     "metadata": {},
     "output_type": "execute_result"
    }
   ],
   "source": [
    "age_list=[]\n",
    "for age_bin in sorted(set(df[\"Age\"])):\n",
    "    age_list.append(age_bin)\n",
    "age_list"
   ]
  },
  {
   "cell_type": "code",
   "execution_count": 43,
   "id": "4e26bb3b",
   "metadata": {},
   "outputs": [],
   "source": [
    "means_list=[]\n",
    "for i in age_list:\n",
    "    means_list.append(clt(df[df[\"Age\"].str.contains(i)][\"Purchase\"],sample))"
   ]
  },
  {
   "cell_type": "code",
   "execution_count": 44,
   "id": "33fc4f41",
   "metadata": {},
   "outputs": [
    {
     "data": {
      "image/png": "[encoded data removed]",
      "text/plain": [
       "<Figure size 432x288 with 1 Axes>"
      ]
     },
     "metadata": {
      "needs_background": "light"
     },
     "output_type": "display_data"
    },
    {
     "data": {
      "image/png": "[encoded data removed]",
      "text/plain": [
       "<Figure size 432x288 with 1 Axes>"
      ]
     },
     "metadata": {
      "needs_background": "light"
     },
     "output_type": "display_data"
    },
    {
     "data": {
      "image/png": "[encoded data removed]",
      "text/plain": [
       "<Figure size 432x288 with 1 Axes>"
      ]
     },
     "metadata": {
      "needs_background": "light"
     },
     "output_type": "display_data"
    },
    {
     "data": {
      "image/png": "[encoded data removed]",
      "text/plain": [
       "<Figure size 432x288 with 1 Axes>"
      ]
     },
     "metadata": {
      "needs_background": "light"
     },
     "output_type": "display_data"
    },
    {
     "data": {
      "image/png": "[encoded data removed]",
      "text/plain": [
       "<Figure size 432x288 with 1 Axes>"
      ]
     },
     "metadata": {
      "needs_background": "light"
     },
     "output_type": "display_data"
    },
    {
     "data": {
      "image/png": "[encoded data removed]",
      "text/plain": [
       "<Figure size 432x288 with 1 Axes>"
      ]
     },
     "metadata": {
      "needs_background": "light"
     },
     "output_type": "display_data"
    },
    {
     "data": {
      "image/png": "[encoded data removed]",
      "text/plain": [
       "<Figure size 432x288 with 1 Axes>"
      ]
     },
     "metadata": {
      "needs_background": "light"
     },
     "output_type": "display_data"
    }
   ],
   "source": [
    "for sample_means in means_list:\n",
    "    sns.histplot(sample_means,kde=True)\n",
    "    plt.show()\n"
   ]
  },
  {
   "cell_type": "code",
   "execution_count": 45,
   "id": "eaa9f6b6",
   "metadata": {},
   "outputs": [
    {
     "name": "stdout",
     "output_type": "stream",
     "text": [
      "0-17_LL: 8357.72516919357 0-17_LL: 9509.590517473098\n",
      "18-25_LL: 8621.77197458248 18-25_UP: 9731.159905417524\n",
      "26-35_LL: 8663.15634338328 26-35_UP: 9799.834696616721\n",
      "36-45_LL: 8800.785527885302 36-45_UP: 9894.535025448033\n",
      "46-50_LL: 8654.191370019767 46-50_UP: 9771.570836646903\n",
      "51-55_LL: 8987.331107026059 51-55_UP: 10096.033632973938\n",
      "55+_LL: 8911.645751175593 55+_UP: 10046.048335491074\n"
     ]
    }
   ],
   "source": [
    "for i in range(len(means_list)):\n",
    "    age_upper_limit= np.mean(means_list[i]) + (1.96 * np.std(means_list[i]))\n",
    "    age_lower_limit= np.mean(means_list[i]) - (1.96 * np.std(means_list[i]))\n",
    "    if i==0:\n",
    "        print(\"0-17_LL:\",age_lower_limit,\"0-17_LL:\",age_upper_limit)\n",
    "    if i==1:\n",
    "        print(\"18-25_LL:\",age_lower_limit,\"18-25_UP:\",age_upper_limit)\n",
    "    if i==2:\n",
    "        print(\"26-35_LL:\",age_lower_limit,\"26-35_UP:\",age_upper_limit)\n",
    "    if i==3:\n",
    "        print(\"36-45_LL:\",age_lower_limit,\"36-45_UP:\",age_upper_limit)\n",
    "    if i==4:\n",
    "        print(\"46-50_LL:\",age_lower_limit,\"46-50_UP:\",age_upper_limit)\n",
    "    if i==5:\n",
    "        print(\"51-55_LL:\",age_lower_limit,\"51-55_UP:\",age_upper_limit)\n",
    "    if i==6:\n",
    "        print(\"55+_LL:\",age_lower_limit,\"55+_UP:\",age_upper_limit)\n",
    "        "
   ]
  },
  {
   "cell_type": "code",
   "execution_count": 46,
   "id": "785ce338",
   "metadata": {},
   "outputs": [],
   "source": [
    "#all the confidence intervals are overlapping so we cant say which age group has most purchases"
   ]
  },
  {
   "cell_type": "markdown",
   "id": "6f528425",
   "metadata": {},
   "source": [
    "### mulitvariate analysis"
   ]
  },
  {
   "cell_type": "code",
   "execution_count": 47,
   "id": "8eae546d",
   "metadata": {},
   "outputs": [
    {
     "data": {
      "text/plain": [
       "<AxesSubplot:>"
      ]
     },
     "execution_count": 47,
     "metadata": {},
     "output_type": "execute_result"
    },
    {
     "data": {
      "image/png": "[encoded data removed]",
      "text/plain": [
       "<Figure size 432x288 with 2 Axes>"
      ]
     },
     "metadata": {
      "needs_background": "light"
     },
     "output_type": "display_data"
    }
   ],
   "source": [
    "sns.heatmap(df.corr(),annot =True)"
   ]
  },
  {
   "cell_type": "code",
   "execution_count": 48,
   "id": "82e68a48",
   "metadata": {},
   "outputs": [],
   "source": [
    "#not much of correlation can be obsereved from the sample data"
   ]
  },
  {
   "cell_type": "markdown",
   "id": "9e7f3899",
   "metadata": {},
   "source": [
    "### Insights:\n",
    "\n",
    "1)There are no null values in the data.\n",
    "\n",
    "2)Outliers are found in Purchase category but we have no need to remove them as they are needed for evaluation.\n",
    "\n",
    "3)From the Male and female sample means we found using CLT with 95% confidence we can say that the intervals of mean Purchase intervals of both male and female are overlapping.\n",
    "\n",
    "4)The  purchase  of both married and unmarried customers are overlapping.\n",
    "\n",
    "5)The purchase of all the age groups are also overlapping.\n",
    "\n",
    "6)There is also no correlation found between any of the categories in the data.\n",
    "\n",
    "7)The means of male and female doesn't seems to vary much so we cannot treat Male and female differently during the sale.\n",
    "\n",
    "8)The average purchases of different categories in the Marital status  and the different age group of the customers doesn't affect the purchases so we can't consider them differently as there is no bias.\n",
    "\n",
    "9)There seems to be no sampling bias in the data and we use this data as it is for analysis.\n",
    "\n",
    "### Recommendations:\n",
    "\n",
    "\n",
    "1)Walmart has a majority of male customers. Also on an average Walmart's male customers spend more than its female customers. Keeping customer acquisition in mind Walmart can provide some extra discounts on women's day to attract female population\n",
    "\n",
    "2)Maximum of Walmart's customers are in age group of 26-35 and least number of customers in age group of 0-17 and 55+. On the other hand, customers in age group of 51-55 make more purchase. Hence giving student discounts and senior citizens discounts can attract customers from age group of 0-17 and 55+\n",
    "\n",
    "3)Has majority of its customers from city category B. Providing discounts to customers in city A and C or advertising more in these cities can help in attracting customers from these cities.\n",
    "\n",
    "4)Product categories 7, 9, 14, 17, 18, 19 and 20 are least purchased products. Advertising these products more can help increase demand for these products\n",
    "\n",
    "5)8,9, 13, 18 occupation level customers are least in Walmart. Targeting these level customers by advertising more to them can help acquire more customers from these levels.\n"
   ]
  }
 ],
 "metadata": {
  "kernelspec": {
   "display_name": "Python 3 (ipykernel)",
   "language": "python",
   "name": "python3"
  },
  "language_info": {
   "codemirror_mode": {
    "name": "ipython",
    "version": 3
   },
   "file_extension": ".py",
   "mimetype": "text/x-python",
   "name": "python",
   "nbconvert_exporter": "python",
   "pygments_lexer": "ipython3",
   "version": "3.9.12"
  }
 },
 "nbformat": 4,
 "nbformat_minor": 5
}
